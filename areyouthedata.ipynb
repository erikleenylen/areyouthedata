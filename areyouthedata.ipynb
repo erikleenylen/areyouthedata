{
 "cells": [
  {
   "cell_type": "code",
   "execution_count": 1,
   "metadata": {
    "collapsed": true
   },
   "outputs": [],
   "source": [
    "import pandas as pd\n",
    "import numpy as np\n",
    "import matplotlib.pyplot as plt\n",
    "%matplotlib inline"
   ]
  },
  {
   "cell_type": "code",
   "execution_count": 31,
   "metadata": {
    "collapsed": true
   },
   "outputs": [],
   "source": [
    "columns = ['Ka','Vi','Fr','Em','Ce','Al','Ju','Ni','To']\n",
    "rows    = ['Gi','Sa','As','Jo','Pr','Ca','Mo','St','Ty']\n",
    "\n",
    "namer = {'Ka':'Kaelyn','Vi':'Victoria','Fr':'Francesca','Em':'Emma',\n",
    "        'Ce':'Camille','Al':'Alyssa','Ju':'Julia','Ni':'Nicole','To':'Tori',\n",
    "        'Gi':'Gio','Sa':'Sam','As':'Asaf','Jo':'John','Pr':'Prosper',\n",
    "        'Ca':'Cameron','Mo':'Morgan','St':'Steven','Ty':'Tyler'}\n",
    "\n",
    "weeklyDictionary = {}\n",
    "matchTemp = pd.DataFrame(index=rows,columns=columns)\n",
    "df = matchTemp.fillna(0)"
   ]
  },
  {
   "cell_type": "code",
   "execution_count": 32,
   "metadata": {
    "collapsed": false
   },
   "outputs": [
    {
     "data": {
      "text/html": [
       "<div>\n",
       "<table border=\"1\" class=\"dataframe\">\n",
       "  <thead>\n",
       "    <tr style=\"text-align: right;\">\n",
       "      <th></th>\n",
       "      <th>Ka</th>\n",
       "      <th>Vi</th>\n",
       "      <th>Fr</th>\n",
       "      <th>Em</th>\n",
       "      <th>Ce</th>\n",
       "      <th>Al</th>\n",
       "      <th>Ju</th>\n",
       "      <th>Ni</th>\n",
       "      <th>To</th>\n",
       "    </tr>\n",
       "  </thead>\n",
       "  <tbody>\n",
       "    <tr>\n",
       "      <th>Gi</th>\n",
       "      <td>0</td>\n",
       "      <td>0</td>\n",
       "      <td>0</td>\n",
       "      <td>0</td>\n",
       "      <td>0</td>\n",
       "      <td>0</td>\n",
       "      <td>0</td>\n",
       "      <td>0</td>\n",
       "      <td>0</td>\n",
       "    </tr>\n",
       "    <tr>\n",
       "      <th>Sa</th>\n",
       "      <td>0</td>\n",
       "      <td>0</td>\n",
       "      <td>0</td>\n",
       "      <td>0</td>\n",
       "      <td>0</td>\n",
       "      <td>0</td>\n",
       "      <td>0</td>\n",
       "      <td>0</td>\n",
       "      <td>0</td>\n",
       "    </tr>\n",
       "    <tr>\n",
       "      <th>As</th>\n",
       "      <td>0</td>\n",
       "      <td>0</td>\n",
       "      <td>0</td>\n",
       "      <td>0</td>\n",
       "      <td>0</td>\n",
       "      <td>0</td>\n",
       "      <td>0</td>\n",
       "      <td>0</td>\n",
       "      <td>0</td>\n",
       "    </tr>\n",
       "    <tr>\n",
       "      <th>Jo</th>\n",
       "      <td>0</td>\n",
       "      <td>0</td>\n",
       "      <td>0</td>\n",
       "      <td>0</td>\n",
       "      <td>0</td>\n",
       "      <td>0</td>\n",
       "      <td>0</td>\n",
       "      <td>0</td>\n",
       "      <td>0</td>\n",
       "    </tr>\n",
       "    <tr>\n",
       "      <th>Pr</th>\n",
       "      <td>0</td>\n",
       "      <td>0</td>\n",
       "      <td>0</td>\n",
       "      <td>0</td>\n",
       "      <td>0</td>\n",
       "      <td>0</td>\n",
       "      <td>0</td>\n",
       "      <td>0</td>\n",
       "      <td>0</td>\n",
       "    </tr>\n",
       "    <tr>\n",
       "      <th>Ca</th>\n",
       "      <td>0</td>\n",
       "      <td>0</td>\n",
       "      <td>0</td>\n",
       "      <td>0</td>\n",
       "      <td>0</td>\n",
       "      <td>0</td>\n",
       "      <td>0</td>\n",
       "      <td>0</td>\n",
       "      <td>0</td>\n",
       "    </tr>\n",
       "    <tr>\n",
       "      <th>Mo</th>\n",
       "      <td>0</td>\n",
       "      <td>0</td>\n",
       "      <td>0</td>\n",
       "      <td>0</td>\n",
       "      <td>0</td>\n",
       "      <td>0</td>\n",
       "      <td>0</td>\n",
       "      <td>0</td>\n",
       "      <td>0</td>\n",
       "    </tr>\n",
       "    <tr>\n",
       "      <th>St</th>\n",
       "      <td>0</td>\n",
       "      <td>0</td>\n",
       "      <td>0</td>\n",
       "      <td>0</td>\n",
       "      <td>0</td>\n",
       "      <td>0</td>\n",
       "      <td>0</td>\n",
       "      <td>0</td>\n",
       "      <td>0</td>\n",
       "    </tr>\n",
       "    <tr>\n",
       "      <th>Ty</th>\n",
       "      <td>0</td>\n",
       "      <td>0</td>\n",
       "      <td>0</td>\n",
       "      <td>0</td>\n",
       "      <td>0</td>\n",
       "      <td>0</td>\n",
       "      <td>0</td>\n",
       "      <td>0</td>\n",
       "      <td>0</td>\n",
       "    </tr>\n",
       "  </tbody>\n",
       "</table>\n",
       "</div>"
      ],
      "text/plain": [
       "    Ka  Vi  Fr  Em  Ce  Al  Ju  Ni  To\n",
       "Gi   0   0   0   0   0   0   0   0   0\n",
       "Sa   0   0   0   0   0   0   0   0   0\n",
       "As   0   0   0   0   0   0   0   0   0\n",
       "Jo   0   0   0   0   0   0   0   0   0\n",
       "Pr   0   0   0   0   0   0   0   0   0\n",
       "Ca   0   0   0   0   0   0   0   0   0\n",
       "Mo   0   0   0   0   0   0   0   0   0\n",
       "St   0   0   0   0   0   0   0   0   0\n",
       "Ty   0   0   0   0   0   0   0   0   0"
      ]
     },
     "execution_count": 32,
     "metadata": {},
     "output_type": "execute_result"
    }
   ],
   "source": [
    "#empty dataframe\n",
    "df"
   ]
  },
  {
   "cell_type": "code",
   "execution_count": 116,
   "metadata": {
    "collapsed": false
   },
   "outputs": [],
   "source": [
    "week1 = {\n",
    "    'Gi':'Ka',\n",
    "    'Sa':'Al',\n",
    "    'As':'Fr',\n",
    "    'Jo':'Em',\n",
    "    'Pr':'Ce',\n",
    "    'Ca':'Vi',\n",
    "    'Mo':'Ju',\n",
    "    'St':'Ni',\n",
    "    'Ty':'To',\n",
    "    'totes':2}\n",
    "week2 = {\n",
    "    'Gi':'Ka',\n",
    "    'Sa':'Fr',\n",
    "    'As':'Ce',\n",
    "    'Jo':'Ni',\n",
    "    'Pr':'Em',\n",
    "    'Ca':'Ju',\n",
    "    'Mo':'Al',\n",
    "    'St':'To',\n",
    "    'Ty':'Vi',\n",
    "    'totes':2\n",
    "}\n",
    "week3 = {\n",
    "    'Gi':'Ka',\n",
    "    'Sa':'Al',\n",
    "    'As':'Ce',\n",
    "    'Jo':'Vi',\n",
    "    'Pr':'Em',\n",
    "    'Ca':'Ni',\n",
    "    'Mo':'Fr',\n",
    "    'St':'To',\n",
    "    'Ty':'Ju',\n",
    "    'totes':3\n",
    "}\n",
    "week4 = {\n",
    "    'Gi':'Ka',\n",
    "    'Sa':'Al',\n",
    "    'As':'Ce',\n",
    "    'Jo':'Vi',\n",
    "    'Pr':'Ni',\n",
    "    'Ca':'Em',\n",
    "    'Mo':'To',\n",
    "    'St':'Ju',\n",
    "    'Ty':'Fr',\n",
    "    'totes':3\n",
    "}\n",
    "week5 = {\n",
    "    'Gi':'Fr',\n",
    "    'Sa':'Al',\n",
    "    'As':'Ce',\n",
    "    'Jo':'To',\n",
    "    'Pr':'Vi',\n",
    "    'Ca':'Em',\n",
    "    'Mo':'Ju',\n",
    "    'St':'Ni',\n",
    "    'Ty':'Vi',\n",
    "    'totes':3\n",
    "}\n",
    "week6 = {\n",
    "    'Gi':'Fr',\n",
    "    'Sa':'Al',\n",
    "    'As':'Ce',\n",
    "    'Jo':'Em',\n",
    "    'Pr':'Ka',\n",
    "    'Ca':'Vi',\n",
    "    'Mo':'To',\n",
    "    'St':'Ju',\n",
    "    'Ty':'Ni',\n",
    "    'totes':3 #maybe\n",
    "}\n",
    "week7 = {\n",
    "    'Gi':'Em',\n",
    "    'Sa':'Al',\n",
    "    'As':'Fr',\n",
    "    'Jo':'Ka',\n",
    "    'Pr':'Vi',\n",
    "    'Ca':'Ni',\n",
    "    'Mo':'To',\n",
    "    'St':'Ju',\n",
    "    'Ty':'Ce',\n",
    "    'totes':4\n",
    "}\n",
    "week8 = {\n",
    "    'Gi':'Ni',\n",
    "    'Sa':'Al',\n",
    "    'As':'Ce',\n",
    "    'Jo':'Ka',\n",
    "    'Pr':'Fr',\n",
    "    'Ca':'To',\n",
    "    'Mo':'Vi',\n",
    "    'St':'Ju',\n",
    "    'Ty':'Em',\n",
    "    'totes':1\n",
    "}\n",
    "\n",
    "exclusions = {\n",
    "    'Gi':['Ka','Al','Ju','Ni'],\n",
    "    'Sa':['Ka','Vi','Fr','Em','Ce','Ju','Ni','Ti'],\n",
    "    'As':['Ce','Al','To'],\n",
    "    'Jo':['Ka','Al','Ju'],\n",
    "    'Pr':['Fr','Al','To'],\n",
    "    'Ca':['Vi','Al','To'],\n",
    "    'Mo':['Vi','Al'],\n",
    "    'St':['Al','Ju','Ni'],\n",
    "    'Ty':['Em','Al']\n",
    "}"
   ]
  },
  {
   "cell_type": "code",
   "execution_count": 117,
   "metadata": {
    "collapsed": false
   },
   "outputs": [],
   "source": [
    "weeklyDictionary = [week1,week2,week3,week4,week5,week6,week7,week8]"
   ]
  },
  {
   "cell_type": "code",
   "execution_count": 118,
   "metadata": {
    "collapsed": false
   },
   "outputs": [
    {
     "name": "stdout",
     "output_type": "stream",
     "text": [
      "1\n",
      "Prosper paired with:  Camille\n",
      "Asaf paired with:  Francesca\n",
      "John paired with:  Emma\n",
      "Tyler paired with:  Tori\n",
      "Morgan paired with:  Julia\n",
      "Sam paired with:  Alyssa\n",
      "Cameron paired with:  Victoria\n",
      "Gio paired with:  Kaelyn\n",
      "Steven paired with:  Nicole\n",
      "2\n",
      "Prosper paired with:  Emma\n",
      "Asaf paired with:  Camille\n",
      "John paired with:  Nicole\n",
      "Tyler paired with:  Victoria\n",
      "Morgan paired with:  Alyssa\n",
      "Sam paired with:  Francesca\n",
      "Cameron paired with:  Julia\n",
      "Gio paired with:  Kaelyn\n",
      "Steven paired with:  Tori\n",
      "3\n",
      "Prosper paired with:  Emma\n",
      "Asaf paired with:  Camille\n",
      "John paired with:  Victoria\n",
      "Tyler paired with:  Julia\n",
      "Morgan paired with:  Francesca\n",
      "Sam paired with:  Alyssa\n",
      "Cameron paired with:  Nicole\n",
      "Gio paired with:  Kaelyn\n",
      "Steven paired with:  Tori\n",
      "4\n",
      "Prosper paired with:  Nicole\n",
      "Asaf paired with:  Camille\n",
      "John paired with:  Victoria\n",
      "Tyler paired with:  Francesca\n",
      "Morgan paired with:  Tori\n",
      "Sam paired with:  Alyssa\n",
      "Cameron paired with:  Emma\n",
      "Gio paired with:  Kaelyn\n",
      "Steven paired with:  Julia\n",
      "5\n",
      "Prosper paired with:  Victoria\n",
      "Asaf paired with:  Camille\n",
      "John paired with:  Tori\n",
      "Tyler paired with:  Victoria\n",
      "Morgan paired with:  Julia\n",
      "Sam paired with:  Alyssa\n",
      "Cameron paired with:  Emma\n",
      "Gio paired with:  Francesca\n",
      "Steven paired with:  Nicole\n",
      "6\n",
      "Prosper paired with:  Kaelyn\n",
      "Asaf paired with:  Camille\n",
      "John paired with:  Emma\n",
      "Tyler paired with:  Nicole\n",
      "Morgan paired with:  Tori\n",
      "Sam paired with:  Alyssa\n",
      "Cameron paired with:  Victoria\n",
      "Gio paired with:  Francesca\n",
      "Steven paired with:  Julia\n",
      "7\n",
      "Prosper paired with:  Victoria\n",
      "Asaf paired with:  Francesca\n",
      "John paired with:  Kaelyn\n",
      "Tyler paired with:  Camille\n",
      "Morgan paired with:  Tori\n",
      "Sam paired with:  Alyssa\n",
      "Cameron paired with:  Nicole\n",
      "Gio paired with:  Emma\n",
      "Steven paired with:  Julia\n",
      "8\n",
      "Prosper paired with:  Francesca\n",
      "Asaf paired with:  Camille\n",
      "John paired with:  Kaelyn\n",
      "Tyler paired with:  Emma\n",
      "Morgan paired with:  Victoria\n",
      "Sam paired with:  Alyssa\n",
      "Cameron paired with:  Tori\n",
      "Gio paired with:  Nicole\n",
      "Steven paired with:  Julia\n"
     ]
    }
   ],
   "source": [
    "for weeknum,week in enumerate(weeklyDictionary):\n",
    "    print weeknum+1\n",
    "    for dude in week.keys():\n",
    "        if len(dude)==2:\n",
    "            print namer[dude]+' paired with: ',namer[week[dude]]"
   ]
  },
  {
   "cell_type": "code",
   "execution_count": 119,
   "metadata": {
    "collapsed": false
   },
   "outputs": [
    {
     "data": {
      "text/plain": [
       "['Pr', 'totes', 'As', 'Jo', 'Ty', 'Mo', 'Sa', 'Ca', 'Gi', 'St']"
      ]
     },
     "execution_count": 119,
     "metadata": {},
     "output_type": "execute_result"
    }
   ],
   "source": [
    "week.keys()"
   ]
  },
  {
   "cell_type": "code",
   "execution_count": 120,
   "metadata": {
    "collapsed": false
   },
   "outputs": [
    {
     "data": {
      "text/plain": [
       "'Prosper'"
      ]
     },
     "execution_count": 120,
     "metadata": {},
     "output_type": "execute_result"
    }
   ],
   "source": [
    "namer['Pr']"
   ]
  },
  {
   "cell_type": "code",
   "execution_count": 121,
   "metadata": {
    "collapsed": true
   },
   "outputs": [],
   "source": [
    "#random pair tester"
   ]
  },
  {
   "cell_type": "code",
   "execution_count": 122,
   "metadata": {
    "collapsed": false
   },
   "outputs": [
    {
     "data": {
      "text/plain": [
       "(['Ka', 'Vi', 'Fr', 'Em', 'Ce', 'Al', 'Ju', 'Ni', 'To'],\n",
       " ['Gi', 'Sa', 'As', 'Jo', 'Pr', 'Ca', 'Mo', 'St', 'Ty'])"
      ]
     },
     "execution_count": 122,
     "metadata": {},
     "output_type": "execute_result"
    }
   ],
   "source": [
    "columns,rows"
   ]
  },
  {
   "cell_type": "code",
   "execution_count": 125,
   "metadata": {
    "collapsed": false
   },
   "outputs": [
    {
     "name": "stdout",
     "output_type": "stream",
     "text": [
      "sim num:55566\n",
      "Prosper projected to be with Emma\n",
      "Tyler projected to be with Camille\n",
      "Cameron projected to be with Julia\n",
      "Steven projected to be with Nicole\n",
      "Asaf projected to be with Kaelyn\n",
      "John projected to be with Victoria\n",
      "Sam projected to be with Alyssa\n",
      "Morgan projected to be with Tori\n",
      "Gio projected to be with Francesca\n",
      "sim num:63242\n",
      "Prosper projected to be with Emma\n",
      "Tyler projected to be with Camille\n",
      "Cameron projected to be with Julia\n",
      "Steven projected to be with Nicole\n",
      "Asaf projected to be with Kaelyn\n",
      "John projected to be with Victoria\n",
      "Sam projected to be with Alyssa\n",
      "Morgan projected to be with Tori\n",
      "Gio projected to be with Francesca\n",
      "sim num:92824\n",
      "Prosper projected to be with Emma\n",
      "Tyler projected to be with Camille\n",
      "Cameron projected to be with Julia\n",
      "Steven projected to be with Nicole\n",
      "Asaf projected to be with Kaelyn\n",
      "John projected to be with Victoria\n",
      "Sam projected to be with Alyssa\n",
      "Morgan projected to be with Tori\n",
      "Gio projected to be with Francesca\n"
     ]
    }
   ],
   "source": [
    "import pdb\n",
    "for simNum in range(100000):\n",
    "    #print 'simulation number:'+str(simNum)\n",
    "    shuffled_num = np.arange(9)\n",
    "    np.random.shuffle(shuffled_num)\n",
    "    shuffled_num\n",
    "    testMatch = {}\n",
    "    for ind_,each_num in enumerate(shuffled_num):\n",
    "        #print rows[ind_]+' is matched with '+columns[each_num]\n",
    "        testMatch[rows[ind_]] = columns[each_num]\n",
    "    #testMatch is loaded now\n",
    "    #for each week\n",
    "    #take the number of testMatch pairing that equal the week sample total\n",
    "    #add to error counter\n",
    "    errorcounter = 0\n",
    "    tote_weeks=0\n",
    "    # for each week of the real sampled matches\n",
    "    for weeknum,week in enumerate(weeklyDictionary):\n",
    "        weekly_match=0\n",
    "        # for each dude in this particular week\n",
    "        for dude in week.keys():\n",
    "            # filter the totes\n",
    "            if len(dude)==2:\n",
    "                # if the dude:gal match is equal to the simulated dude:gal match\n",
    "                # since we want to see if this testMatch is legit!\n",
    "                if week[dude] == testMatch[dude]:\n",
    "                    # if the gal is not excluded (for whatever reason)\n",
    "                    if week[dude] not in exclusions[dude]:\n",
    "                        # we call this a match\n",
    "                        weekly_match+=1\n",
    "                    # if the gal is in the excluded, group, we minus one\n",
    "                    if week[dude] in exclusions[dude]:\n",
    "                        weekly_match-=1\n",
    "                        errorcounter+=1\n",
    "        if weekly_match == week['totes']:\n",
    "            tote_weeks+=1\n",
    "\n",
    "    if tote_weeks >= 6:\n",
    "        print 'sim num:'+str(simNum)\n",
    "        theMatch = testMatch\n",
    "        for dude in testMatch.keys():\n",
    "            print namer[dude]+' projected to be with '+namer[projectedMatches[dude]]\n",
    "        \n",
    "        "
   ]
  },
  {
   "cell_type": "code",
   "execution_count": 126,
   "metadata": {
    "collapsed": false
   },
   "outputs": [],
   "source": [
    "#DONE!"
   ]
  },
  {
   "cell_type": "code",
   "execution_count": 127,
   "metadata": {
    "collapsed": false
   },
   "outputs": [],
   "source": []
  },
  {
   "cell_type": "code",
   "execution_count": null,
   "metadata": {
    "collapsed": false
   },
   "outputs": [],
   "source": [
    "\n"
   ]
  },
  {
   "cell_type": "code",
   "execution_count": null,
   "metadata": {
    "collapsed": true
   },
   "outputs": [],
   "source": []
  },
  {
   "cell_type": "code",
   "execution_count": null,
   "metadata": {
    "collapsed": true
   },
   "outputs": [],
   "source": []
  }
 ],
 "metadata": {
  "kernelspec": {
   "display_name": "Python [Root]",
   "language": "python",
   "name": "Python [Root]"
  },
  "language_info": {
   "codemirror_mode": {
    "name": "ipython",
    "version": 2
   },
   "file_extension": ".py",
   "mimetype": "text/x-python",
   "name": "python",
   "nbconvert_exporter": "python",
   "pygments_lexer": "ipython2",
   "version": "2.7.11"
  }
 },
 "nbformat": 4,
 "nbformat_minor": 0
}
